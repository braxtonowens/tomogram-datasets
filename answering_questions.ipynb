{
 "cells": [
  {
   "cell_type": "markdown",
   "metadata": {},
   "source": [
    "# Answering Questions\n",
    "In this notebook, I hope to answer the following questions, which will be pertinent as we prepare to host our competition.\n",
    "- What is the distribution of our flagellar motor annotations within their respective tomograms?\n",
    "- What are the size statistics of tomograms?\n",
    "- How many slices (axis 0) should we provide to allow competitors to find motors?"
   ]
  },
  {
   "cell_type": "code",
   "execution_count": 3,
   "metadata": {},
   "outputs": [],
   "source": [
    "from tomograms import all_fm_tomograms\n",
    "\n",
    "import numpy as np\n",
    "from matplotlib import pyplot as plt\n",
    "\n",
    "from visualize_voxels import visualize"
   ]
  },
  {
   "cell_type": "code",
   "execution_count": 4,
   "metadata": {},
   "outputs": [],
   "source": [
    "all_tomos = all_fm_tomograms()"
   ]
  },
  {
   "cell_type": "markdown",
   "metadata": {},
   "source": [
    "### What is the distribution of our flagellar motor annotations within their respective tomograms?"
   ]
  },
  {
   "cell_type": "code",
   "execution_count": 5,
   "metadata": {},
   "outputs": [],
   "source": [
    "def relative_loc(array_shape, point):\n",
    "    \"\"\" Normalizes each component of np array `point` by the components of `array_shape`. \"\"\"\n",
    "    return np.array([p / s for (p, s) in zip(point, array_shape)])\n",
    "\n",
    "\n",
    "def relative_fm_locs(tomogram):\n",
    "    # Find flagellar motor annotation in tomogram\n",
    "    annotation = next((a for a in tomogram.annotations \n",
    "                        if a.name == \"Flagellar Motor\"), None)\n",
    "    if annotation is None:\n",
    "        return []\n",
    "    \n",
    "    rel_locs = [relative_loc(tomogram.get_shape(), point) for point in annotation.points]\n",
    "    return rel_locs\n"
   ]
  },
  {
   "cell_type": "code",
   "execution_count": 6,
   "metadata": {},
   "outputs": [
    {
     "ename": "AttributeError",
     "evalue": "'TomogramFile' object has no attribute 'get_shape'",
     "output_type": "error",
     "traceback": [
      "\u001b[0;31m---------------------------------------------------------------------------\u001b[0m",
      "\u001b[0;31mAttributeError\u001b[0m                            Traceback (most recent call last)",
      "Cell \u001b[0;32mIn[6], line 3\u001b[0m\n\u001b[1;32m      1\u001b[0m rel_locs \u001b[38;5;241m=\u001b[39m {} \n\u001b[1;32m      2\u001b[0m \u001b[38;5;28;01mfor\u001b[39;00m tomo \u001b[38;5;129;01min\u001b[39;00m all_tomos:\n\u001b[0;32m----> 3\u001b[0m     rel_locs[tomo] \u001b[38;5;241m=\u001b[39m \u001b[43mrelative_fm_locs\u001b[49m\u001b[43m(\u001b[49m\u001b[43mtomo\u001b[49m\u001b[43m)\u001b[49m\n",
      "Cell \u001b[0;32mIn[5], line 13\u001b[0m, in \u001b[0;36mrelative_fm_locs\u001b[0;34m(tomogram)\u001b[0m\n\u001b[1;32m     10\u001b[0m \u001b[38;5;28;01mif\u001b[39;00m annotation \u001b[38;5;129;01mis\u001b[39;00m \u001b[38;5;28;01mNone\u001b[39;00m:\n\u001b[1;32m     11\u001b[0m     \u001b[38;5;28;01mreturn\u001b[39;00m []\n\u001b[0;32m---> 13\u001b[0m rel_locs \u001b[38;5;241m=\u001b[39m [relative_loc(\u001b[43mtomogram\u001b[49m\u001b[38;5;241;43m.\u001b[39;49m\u001b[43mget_shape\u001b[49m(), point) \u001b[38;5;28;01mfor\u001b[39;00m point \u001b[38;5;129;01min\u001b[39;00m annotation\u001b[38;5;241m.\u001b[39mpoints]\n\u001b[1;32m     14\u001b[0m \u001b[38;5;28;01mreturn\u001b[39;00m rel_locs\n",
      "\u001b[0;31mAttributeError\u001b[0m: 'TomogramFile' object has no attribute 'get_shape'"
     ]
    }
   ],
   "source": [
    "rel_locs = {} \n",
    "for tomo in all_tomos:\n",
    "    rel_locs[tomo] = relative_fm_locs(tomo)"
   ]
  },
  {
   "cell_type": "code",
   "execution_count": 7,
   "metadata": {},
   "outputs": [],
   "source": [
    "tomos, slices, horiz_positions, vert_positions = ([], [], [], [])\n",
    "for tomo, locs in rel_locs.items():\n",
    "    tomos += [tomo for _ in locs]\n",
    "    slices += [loc[0] for loc in locs]\n",
    "    horiz_positions += [loc[1] for loc in locs]\n",
    "    vert_positions  += [loc[2] for loc in locs]"
   ]
  },
  {
   "cell_type": "code",
   "execution_count": 8,
   "metadata": {},
   "outputs": [
    {
     "data": {
      "text/plain": [
       "Text(0.5, 1.0, 'Distribution of flagellar motors by slice')"
      ]
     },
     "execution_count": 8,
     "metadata": {},
     "output_type": "execute_result"
    }
   ],
   "source": [
    "plt.hist(\n",
    "    slices,\n",
    "    bins=30,\n",
    "    orientation='horizontal'\n",
    ")\n",
    "plt.xlabel(\"Number of motors\")\n",
    "plt.ylabel(\"Slice (normalized to tomogram thickness)\")\n",
    "plt.title(\"Distribution of flagellar motors by slice\")"
   ]
  },
  {
   "cell_type": "code",
   "execution_count": 9,
   "metadata": {},
   "outputs": [],
   "source": [
    "fig, ax = plt.subplots(1, 2, figsize=(10, 5))\n",
    "\n",
    "fig.suptitle(\"Flagellar motors\\nin their respective slice\")\n",
    "\n",
    "ax[0].scatter(\n",
    "    horiz_positions,\n",
    "    vert_positions,\n",
    "    s=10\n",
    ")\n",
    "ax[0].set_aspect('equal', adjustable='box')\n",
    "ax[0].set_xlabel(\"Horizontal position (normalized)\")\n",
    "ax[0].set_ylabel(\"Vertical position (normalized)\")\n",
    "ax[0].set_title(\"Scatter\")\n",
    "\n",
    "ax[1].hist2d(\n",
    "    horiz_positions,\n",
    "    vert_positions,\n",
    "    bins=15\n",
    ")\n",
    "ax[1].set_aspect('equal', adjustable='box')\n",
    "ax[1].set_xlabel(\"Horizontal position (normalized)\")\n",
    "ax[1].set_ylabel(\"Vertical position (normalized)\")\n",
    "ax[1].set_title(\"Heatmap\")\n",
    "\n",
    "fig.tight_layout()"
   ]
  },
  {
   "cell_type": "markdown",
   "metadata": {},
   "source": [
    "Finding the extreme annotations for Braxton"
   ]
  },
  {
   "cell_type": "code",
   "execution_count": null,
   "metadata": {},
   "outputs": [],
   "source": [
    "sorted_indices = np.argsort(slices)"
   ]
  },
  {
   "cell_type": "code",
   "execution_count": null,
   "metadata": {},
   "outputs": [],
   "source": [
    "# Lowest slices\n",
    "lowest_motors = [tomos[i] for i in sorted_indices[:3]]\n",
    "\n",
    "for tomo in lowest_motors:\n",
    "    print(tomo.filepath)"
   ]
  },
  {
   "cell_type": "code",
   "execution_count": null,
   "metadata": {},
   "outputs": [],
   "source": [
    "# Highest slices\n",
    "highest_motors = [tomos[i] for i in sorted_indices[-3:]]\n",
    "\n",
    "for tomo in highest_motors:\n",
    "    print(tomo.filepath)"
   ]
  },
  {
   "cell_type": "code",
   "execution_count": null,
   "metadata": {},
   "outputs": [],
   "source": [
    "for i in sorted_indices:\n",
    "    tomo = tomos[i]\n",
    "    print(tomo.filepath)\n",
    "    print()"
   ]
  },
  {
   "cell_type": "code",
   "execution_count": null,
   "metadata": {},
   "outputs": [],
   "source": [
    "tomo = lowest_motors[0]\n",
    "tomo.load()\n",
    "visualize(tomo.data, marks=tomo.annotations[0].points, title=f\"Lowest Motors ({i})\")"
   ]
  },
  {
   "cell_type": "code",
   "execution_count": null,
   "metadata": {},
   "outputs": [],
   "source": [
    "tomo = highest_motors[-1]\n",
    "tomo.load()\n",
    "visualize(tomo.data, marks=tomo.annotations[0].points, title=f\"Highest Motors ({i})\")"
   ]
  },
  {
   "cell_type": "markdown",
   "metadata": {},
   "source": [
    "### What are the size statistics of tomograms?"
   ]
  },
  {
   "cell_type": "code",
   "execution_count": null,
   "metadata": {},
   "outputs": [],
   "source": [
    "shapes = []\n",
    "for tomo in all_tomos:\n",
    "    shapes.append(tomo.get_shape())"
   ]
  },
  {
   "cell_type": "code",
   "execution_count": null,
   "metadata": {},
   "outputs": [],
   "source": [
    "n_slices = np.array([shape[0] for shape in shapes])"
   ]
  },
  {
   "cell_type": "code",
   "execution_count": null,
   "metadata": {},
   "outputs": [],
   "source": [
    "print(f\"Unique numbers of slices: {np.unique(n_slices)}\")"
   ]
  },
  {
   "cell_type": "markdown",
   "metadata": {},
   "source": [
    "Of the 600 tomograms I can find annotations for, all of them have 300, 500, or 600 slices! "
   ]
  },
  {
   "cell_type": "code",
   "execution_count": null,
   "metadata": {},
   "outputs": [],
   "source": [
    "plt.hist(n_slices)\n",
    "plt.xlabel(\"Slices\")\n",
    "plt.ylabel(\"Tomograms\")\n",
    "plt.title(\"Number of slices in tomograms with motor annotations\")\n",
    "plt.show()"
   ]
  },
  {
   "cell_type": "code",
   "execution_count": null,
   "metadata": {},
   "outputs": [],
   "source": [
    "n_horiz = np.array([shape[1] for shape in shapes])\n",
    "n_vert  = np.array([shape[2] for shape in shapes])"
   ]
  },
  {
   "cell_type": "code",
   "execution_count": null,
   "metadata": {},
   "outputs": [],
   "source": [
    "print(f\"Unique horizontal sizes: {np.unique(n_horiz)}\")\n",
    "print(f\"Unique vertical sizes:   {np.unique(n_vert) }\")\n"
   ]
  },
  {
   "cell_type": "code",
   "execution_count": null,
   "metadata": {},
   "outputs": [],
   "source": [
    "from matplotlib.colors import ListedColormap\n",
    "from matplotlib.ticker import ScalarFormatter\n",
    "\n",
    "# Create a custom colormap where 0 values are white\n",
    "original_map = plt.cm.viridis\n",
    "new_cmap = original_map(np.arange(original_map.N))\n",
    "new_cmap[0, :] = np.array([1, 1, 1, 1])  # Set the color for 0 values to white\n",
    "custom_cmap = ListedColormap(new_cmap)\n",
    "\n",
    "fig, axes = plt.subplots(1, 3, figsize=(15, 5))\n",
    "\n",
    "for ax, slices in zip(axes, [300, 500, 600]):\n",
    "    hist = ax.hist2d(\n",
    "        [h for (s, h) in zip(n_slices, n_horiz) if s == slices],\n",
    "        [v for (s, v) in zip(n_slices, n_vert)  if s == slices],\n",
    "        bins=25,\n",
    "        cmap=custom_cmap\n",
    "    )\n",
    "    ax.set_title(f\"Shapes of {slices}-slice tomograms (N = {np.sum(n_slices==slices)})\")\n",
    "    cbar = fig.colorbar(hist[3], ax=ax, shrink=0.75)\n",
    "    cbar.set_label('Tomograms')\n",
    "\n",
    "    # Force axis to use plain numbers instead of scientific notation\n",
    "    ax.xaxis.set_major_formatter(ScalarFormatter(useOffset=False))\n",
    "    ax.yaxis.set_major_formatter(ScalarFormatter(useOffset=False))\n",
    "\n",
    "fig.suptitle(\"~ Shapes of tomograms with motor annotations ~\")\n",
    "fig.tight_layout()"
   ]
  },
  {
   "cell_type": "markdown",
   "metadata": {},
   "source": [
    "### How many slices (axis 0) should we provide to allow competitors to find motors?"
   ]
  },
  {
   "cell_type": "code",
   "execution_count": null,
   "metadata": {},
   "outputs": [],
   "source": []
  }
 ],
 "metadata": {
  "kernelspec": {
   "display_name": "py_matthew",
   "language": "python",
   "name": "python3"
  },
  "language_info": {
   "codemirror_mode": {
    "name": "ipython",
    "version": 3
   },
   "file_extension": ".py",
   "mimetype": "text/x-python",
   "name": "python",
   "nbconvert_exporter": "python",
   "pygments_lexer": "ipython3",
   "version": "3.12.5"
  }
 },
 "nbformat": 4,
 "nbformat_minor": 2
}
